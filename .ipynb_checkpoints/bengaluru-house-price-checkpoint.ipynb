{
 "cells": [
  {
   "cell_type": "code",
   "execution_count": 6,
   "metadata": {
    "_cell_guid": "b1076dfc-b9ad-4769-8c92-a6c4dae69d19",
    "_uuid": "8f2839f25d086af736a60e9eeb907d3b93b6e0e5",
    "execution": {
     "iopub.execute_input": "2024-07-17T00:49:49.007688Z",
     "iopub.status.busy": "2024-07-17T00:49:49.007293Z",
     "iopub.status.idle": "2024-07-17T00:49:49.430810Z",
     "shell.execute_reply": "2024-07-17T00:49:49.429584Z",
     "shell.execute_reply.started": "2024-07-17T00:49:49.007658Z"
    }
   },
   "outputs": [],
   "source": [
    "# This Python 3 environment comes with many helpful analytics libraries installed\n",
    "# It is defined by the kaggle/python Docker image: https://github.com/kaggle/docker-python\n",
    "# For example, here's several helpful packages to load\n",
    "\n",
    "import numpy as np # linear algebra\n",
    "import pandas as pd # data processing, CSV file I/O (e.g. pd.read_csv)\n",
    "\n",
    "# Input data files are available in the read-only \"../input/\" directory\n",
    "# For example, running this (by clicking run or pressing Shift+Enter) will list all files under the input directory\n",
    "\n",
    "import os\n",
    "for dirname, _, filenames in os.walk('/kaggle/input'):\n",
    "    for filename in filenames:\n",
    "        print(os.path.join(dirname, filename))\n",
    "\n",
    "# You can write up to 20GB to the current directory (/kaggle/working/) that gets preserved as output when you create a version using \"Save & Run All\" \n",
    "# You can also write temporary files to /kaggle/temp/, but they won't be saved outside of the current session"
   ]
  },
  {
   "cell_type": "code",
   "execution_count": 7,
   "metadata": {
    "execution": {
     "iopub.execute_input": "2024-07-17T00:49:49.433811Z",
     "iopub.status.busy": "2024-07-17T00:49:49.433281Z",
     "iopub.status.idle": "2024-07-17T00:49:49.442886Z",
     "shell.execute_reply": "2024-07-17T00:49:49.441340Z",
     "shell.execute_reply.started": "2024-07-17T00:49:49.433778Z"
    }
   },
   "outputs": [],
   "source": [
    "import pandas as pd\n",
    "import numpy as np\n",
    "from matplotlib import pyplot as plt\n",
    "%matplotlib inline\n",
    "import matplotlib\n"
   ]
  },
  {
   "cell_type": "code",
   "execution_count": 8,
   "metadata": {
    "execution": {
     "iopub.execute_input": "2024-07-17T00:49:49.445425Z",
     "iopub.status.busy": "2024-07-17T00:49:49.444557Z",
     "iopub.status.idle": "2024-07-17T00:49:49.533877Z",
     "shell.execute_reply": "2024-07-17T00:49:49.532385Z",
     "shell.execute_reply.started": "2024-07-17T00:49:49.445389Z"
    }
   },
   "outputs": [
    {
     "data": {
      "text/html": [
       "<div>\n",
       "<style scoped>\n",
       "    .dataframe tbody tr th:only-of-type {\n",
       "        vertical-align: middle;\n",
       "    }\n",
       "\n",
       "    .dataframe tbody tr th {\n",
       "        vertical-align: top;\n",
       "    }\n",
       "\n",
       "    .dataframe thead th {\n",
       "        text-align: right;\n",
       "    }\n",
       "</style>\n",
       "<table border=\"1\" class=\"dataframe\">\n",
       "  <thead>\n",
       "    <tr style=\"text-align: right;\">\n",
       "      <th></th>\n",
       "      <th>area_type</th>\n",
       "      <th>availability</th>\n",
       "      <th>location</th>\n",
       "      <th>size</th>\n",
       "      <th>society</th>\n",
       "      <th>total_sqft</th>\n",
       "      <th>bath</th>\n",
       "      <th>balcony</th>\n",
       "      <th>price</th>\n",
       "    </tr>\n",
       "  </thead>\n",
       "  <tbody>\n",
       "    <tr>\n",
       "      <th>0</th>\n",
       "      <td>Super built-up  Area</td>\n",
       "      <td>Ready To Move</td>\n",
       "      <td>Ambedkar Nagar</td>\n",
       "      <td>3 BHK</td>\n",
       "      <td>NaN</td>\n",
       "      <td>1920</td>\n",
       "      <td>4.0</td>\n",
       "      <td>2.0</td>\n",
       "      <td>121.0</td>\n",
       "    </tr>\n",
       "    <tr>\n",
       "      <th>1</th>\n",
       "      <td>Plot  Area</td>\n",
       "      <td>18-Aug</td>\n",
       "      <td>Hulimavu</td>\n",
       "      <td>4 Bedroom</td>\n",
       "      <td>ValleCi</td>\n",
       "      <td>1500</td>\n",
       "      <td>4.0</td>\n",
       "      <td>3.0</td>\n",
       "      <td>192.0</td>\n",
       "    </tr>\n",
       "    <tr>\n",
       "      <th>2</th>\n",
       "      <td>Super built-up  Area</td>\n",
       "      <td>Ready To Move</td>\n",
       "      <td>Kalkere</td>\n",
       "      <td>2 BHK</td>\n",
       "      <td>Sothin</td>\n",
       "      <td>925</td>\n",
       "      <td>2.0</td>\n",
       "      <td>1.0</td>\n",
       "      <td>55.0</td>\n",
       "    </tr>\n",
       "    <tr>\n",
       "      <th>3</th>\n",
       "      <td>Plot  Area</td>\n",
       "      <td>Ready To Move</td>\n",
       "      <td>Kodigehalli</td>\n",
       "      <td>2 Bedroom</td>\n",
       "      <td>NaN</td>\n",
       "      <td>500</td>\n",
       "      <td>1.0</td>\n",
       "      <td>0.0</td>\n",
       "      <td>55.0</td>\n",
       "    </tr>\n",
       "    <tr>\n",
       "      <th>4</th>\n",
       "      <td>Super built-up  Area</td>\n",
       "      <td>Ready To Move</td>\n",
       "      <td>Harlur</td>\n",
       "      <td>2 BHK</td>\n",
       "      <td>Prncyrn</td>\n",
       "      <td>1174</td>\n",
       "      <td>2.0</td>\n",
       "      <td>1.0</td>\n",
       "      <td>74.0</td>\n",
       "    </tr>\n",
       "  </tbody>\n",
       "</table>\n",
       "</div>"
      ],
      "text/plain": [
       "              area_type   availability        location       size  society  \\\n",
       "0  Super built-up  Area  Ready To Move  Ambedkar Nagar      3 BHK      NaN   \n",
       "1            Plot  Area         18-Aug        Hulimavu  4 Bedroom  ValleCi   \n",
       "2  Super built-up  Area  Ready To Move         Kalkere      2 BHK  Sothin    \n",
       "3            Plot  Area  Ready To Move     Kodigehalli  2 Bedroom      NaN   \n",
       "4  Super built-up  Area  Ready To Move          Harlur      2 BHK  Prncyrn   \n",
       "\n",
       "   total_sqft  bath  balcony  price  \n",
       "0        1920   4.0      2.0  121.0  \n",
       "1        1500   4.0      3.0  192.0  \n",
       "2         925   2.0      1.0   55.0  \n",
       "3         500   1.0      0.0   55.0  \n",
       "4        1174   2.0      1.0   74.0  "
      ]
     },
     "execution_count": 8,
     "metadata": {},
     "output_type": "execute_result"
    }
   ],
   "source": [
    "df1=pd.read_csv(\"bengaluru_house_prices.csv\")\n",
    "df1.head()"
   ]
  },
  {
   "cell_type": "code",
   "execution_count": 9,
   "metadata": {
    "execution": {
     "iopub.execute_input": "2024-07-17T00:49:49.535721Z",
     "iopub.status.busy": "2024-07-17T00:49:49.535394Z",
     "iopub.status.idle": "2024-07-17T00:49:49.572613Z",
     "shell.execute_reply": "2024-07-17T00:49:49.571163Z",
     "shell.execute_reply.started": "2024-07-17T00:49:49.535693Z"
    }
   },
   "outputs": [
    {
     "name": "stdout",
     "output_type": "stream",
     "text": [
      "<class 'pandas.core.frame.DataFrame'>\n",
      "RangeIndex: 50 entries, 0 to 49\n",
      "Data columns (total 9 columns):\n",
      " #   Column        Non-Null Count  Dtype  \n",
      "---  ------        --------------  -----  \n",
      " 0   area_type     50 non-null     object \n",
      " 1   availability  50 non-null     object \n",
      " 2   location      50 non-null     object \n",
      " 3   size          50 non-null     object \n",
      " 4   society       30 non-null     object \n",
      " 5   total_sqft    50 non-null     int64  \n",
      " 6   bath          50 non-null     float64\n",
      " 7   balcony       50 non-null     float64\n",
      " 8   price         50 non-null     float64\n",
      "dtypes: float64(3), int64(1), object(5)\n",
      "memory usage: 3.6+ KB\n"
     ]
    }
   ],
   "source": [
    "df1.info()"
   ]
  },
  {
   "cell_type": "code",
   "execution_count": 10,
   "metadata": {
    "execution": {
     "iopub.execute_input": "2024-07-17T00:49:49.578688Z",
     "iopub.status.busy": "2024-07-17T00:49:49.577494Z",
     "iopub.status.idle": "2024-07-17T00:49:49.599087Z",
     "shell.execute_reply": "2024-07-17T00:49:49.597566Z",
     "shell.execute_reply.started": "2024-07-17T00:49:49.578628Z"
    }
   },
   "outputs": [
    {
     "data": {
      "text/plain": [
       "area_type        0\n",
       "availability     0\n",
       "location         0\n",
       "size             0\n",
       "society         20\n",
       "total_sqft       0\n",
       "bath             0\n",
       "balcony          0\n",
       "price            0\n",
       "dtype: int64"
      ]
     },
     "execution_count": 10,
     "metadata": {},
     "output_type": "execute_result"
    }
   ],
   "source": [
    "df1.isnull().sum()"
   ]
  },
  {
   "cell_type": "code",
   "execution_count": 11,
   "metadata": {
    "execution": {
     "iopub.execute_input": "2024-07-17T00:49:49.601529Z",
     "iopub.status.busy": "2024-07-17T00:49:49.601089Z",
     "iopub.status.idle": "2024-07-17T00:49:49.616595Z",
     "shell.execute_reply": "2024-07-17T00:49:49.615311Z",
     "shell.execute_reply.started": "2024-07-17T00:49:49.601495Z"
    }
   },
   "outputs": [
    {
     "data": {
      "text/plain": [
       "area_type\n",
       "Super built-up  Area    37\n",
       "Plot  Area               6\n",
       "Built-up  Area           6\n",
       "Carpet  Area             1\n",
       "Name: count, dtype: int64"
      ]
     },
     "execution_count": 11,
     "metadata": {},
     "output_type": "execute_result"
    }
   ],
   "source": [
    "df1['area_type'].value_counts()"
   ]
  },
  {
   "cell_type": "code",
   "execution_count": 12,
   "metadata": {
    "execution": {
     "iopub.execute_input": "2024-07-17T00:49:49.618683Z",
     "iopub.status.busy": "2024-07-17T00:49:49.618302Z",
     "iopub.status.idle": "2024-07-17T00:49:49.648566Z",
     "shell.execute_reply": "2024-07-17T00:49:49.647388Z",
     "shell.execute_reply.started": "2024-07-17T00:49:49.618652Z"
    }
   },
   "outputs": [
    {
     "data": {
      "text/html": [
       "<div>\n",
       "<style scoped>\n",
       "    .dataframe tbody tr th:only-of-type {\n",
       "        vertical-align: middle;\n",
       "    }\n",
       "\n",
       "    .dataframe tbody tr th {\n",
       "        vertical-align: top;\n",
       "    }\n",
       "\n",
       "    .dataframe thead th {\n",
       "        text-align: right;\n",
       "    }\n",
       "</style>\n",
       "<table border=\"1\" class=\"dataframe\">\n",
       "  <thead>\n",
       "    <tr style=\"text-align: right;\">\n",
       "      <th></th>\n",
       "      <th>total_sqft</th>\n",
       "      <th>bath</th>\n",
       "      <th>balcony</th>\n",
       "      <th>price</th>\n",
       "    </tr>\n",
       "  </thead>\n",
       "  <tbody>\n",
       "    <tr>\n",
       "      <th>count</th>\n",
       "      <td>50.000000</td>\n",
       "      <td>50.00000</td>\n",
       "      <td>50.000000</td>\n",
       "      <td>50.000000</td>\n",
       "    </tr>\n",
       "    <tr>\n",
       "      <th>mean</th>\n",
       "      <td>1393.040000</td>\n",
       "      <td>2.36000</td>\n",
       "      <td>1.680000</td>\n",
       "      <td>82.070800</td>\n",
       "    </tr>\n",
       "    <tr>\n",
       "      <th>std</th>\n",
       "      <td>635.497297</td>\n",
       "      <td>0.89807</td>\n",
       "      <td>0.843704</td>\n",
       "      <td>62.645493</td>\n",
       "    </tr>\n",
       "    <tr>\n",
       "      <th>min</th>\n",
       "      <td>410.000000</td>\n",
       "      <td>1.00000</td>\n",
       "      <td>0.000000</td>\n",
       "      <td>16.450000</td>\n",
       "    </tr>\n",
       "    <tr>\n",
       "      <th>25%</th>\n",
       "      <td>1116.250000</td>\n",
       "      <td>2.00000</td>\n",
       "      <td>1.000000</td>\n",
       "      <td>46.000000</td>\n",
       "    </tr>\n",
       "    <tr>\n",
       "      <th>50%</th>\n",
       "      <td>1239.000000</td>\n",
       "      <td>2.00000</td>\n",
       "      <td>2.000000</td>\n",
       "      <td>57.400000</td>\n",
       "    </tr>\n",
       "    <tr>\n",
       "      <th>75%</th>\n",
       "      <td>1500.000000</td>\n",
       "      <td>3.00000</td>\n",
       "      <td>2.000000</td>\n",
       "      <td>80.750000</td>\n",
       "    </tr>\n",
       "    <tr>\n",
       "      <th>max</th>\n",
       "      <td>3600.000000</td>\n",
       "      <td>5.00000</td>\n",
       "      <td>3.000000</td>\n",
       "      <td>350.000000</td>\n",
       "    </tr>\n",
       "  </tbody>\n",
       "</table>\n",
       "</div>"
      ],
      "text/plain": [
       "        total_sqft      bath    balcony       price\n",
       "count    50.000000  50.00000  50.000000   50.000000\n",
       "mean   1393.040000   2.36000   1.680000   82.070800\n",
       "std     635.497297   0.89807   0.843704   62.645493\n",
       "min     410.000000   1.00000   0.000000   16.450000\n",
       "25%    1116.250000   2.00000   1.000000   46.000000\n",
       "50%    1239.000000   2.00000   2.000000   57.400000\n",
       "75%    1500.000000   3.00000   2.000000   80.750000\n",
       "max    3600.000000   5.00000   3.000000  350.000000"
      ]
     },
     "execution_count": 12,
     "metadata": {},
     "output_type": "execute_result"
    }
   ],
   "source": [
    "df1.describe()"
   ]
  },
  {
   "cell_type": "code",
   "execution_count": 13,
   "metadata": {
    "execution": {
     "iopub.execute_input": "2024-07-17T00:49:49.650759Z",
     "iopub.status.busy": "2024-07-17T00:49:49.650404Z",
     "iopub.status.idle": "2024-07-17T00:49:49.658788Z",
     "shell.execute_reply": "2024-07-17T00:49:49.657302Z",
     "shell.execute_reply.started": "2024-07-17T00:49:49.650728Z"
    }
   },
   "outputs": [
    {
     "data": {
      "text/plain": [
       "(50, 9)"
      ]
     },
     "execution_count": 13,
     "metadata": {},
     "output_type": "execute_result"
    }
   ],
   "source": [
    "df1.shape\n"
   ]
  },
  {
   "cell_type": "code",
   "execution_count": 14,
   "metadata": {
    "execution": {
     "iopub.execute_input": "2024-07-17T00:49:49.661122Z",
     "iopub.status.busy": "2024-07-17T00:49:49.660661Z",
     "iopub.status.idle": "2024-07-17T00:49:49.673714Z",
     "shell.execute_reply": "2024-07-17T00:49:49.672385Z",
     "shell.execute_reply.started": "2024-07-17T00:49:49.661085Z"
    }
   },
   "outputs": [],
   "source": [
    "df2=df1.drop(['area_type','society','balcony','availability'],axis='columns')"
   ]
  },
  {
   "cell_type": "code",
   "execution_count": 15,
   "metadata": {
    "execution": {
     "iopub.execute_input": "2024-07-17T00:49:49.676008Z",
     "iopub.status.busy": "2024-07-17T00:49:49.675542Z",
     "iopub.status.idle": "2024-07-17T00:49:49.694978Z",
     "shell.execute_reply": "2024-07-17T00:49:49.693546Z",
     "shell.execute_reply.started": "2024-07-17T00:49:49.675942Z"
    }
   },
   "outputs": [
    {
     "data": {
      "text/html": [
       "<div>\n",
       "<style scoped>\n",
       "    .dataframe tbody tr th:only-of-type {\n",
       "        vertical-align: middle;\n",
       "    }\n",
       "\n",
       "    .dataframe tbody tr th {\n",
       "        vertical-align: top;\n",
       "    }\n",
       "\n",
       "    .dataframe thead th {\n",
       "        text-align: right;\n",
       "    }\n",
       "</style>\n",
       "<table border=\"1\" class=\"dataframe\">\n",
       "  <thead>\n",
       "    <tr style=\"text-align: right;\">\n",
       "      <th></th>\n",
       "      <th>location</th>\n",
       "      <th>size</th>\n",
       "      <th>total_sqft</th>\n",
       "      <th>bath</th>\n",
       "      <th>price</th>\n",
       "    </tr>\n",
       "  </thead>\n",
       "  <tbody>\n",
       "    <tr>\n",
       "      <th>0</th>\n",
       "      <td>Ambedkar Nagar</td>\n",
       "      <td>3 BHK</td>\n",
       "      <td>1920</td>\n",
       "      <td>4.0</td>\n",
       "      <td>121.0</td>\n",
       "    </tr>\n",
       "    <tr>\n",
       "      <th>1</th>\n",
       "      <td>Hulimavu</td>\n",
       "      <td>4 Bedroom</td>\n",
       "      <td>1500</td>\n",
       "      <td>4.0</td>\n",
       "      <td>192.0</td>\n",
       "    </tr>\n",
       "    <tr>\n",
       "      <th>2</th>\n",
       "      <td>Kalkere</td>\n",
       "      <td>2 BHK</td>\n",
       "      <td>925</td>\n",
       "      <td>2.0</td>\n",
       "      <td>55.0</td>\n",
       "    </tr>\n",
       "    <tr>\n",
       "      <th>3</th>\n",
       "      <td>Kodigehalli</td>\n",
       "      <td>2 Bedroom</td>\n",
       "      <td>500</td>\n",
       "      <td>1.0</td>\n",
       "      <td>55.0</td>\n",
       "    </tr>\n",
       "    <tr>\n",
       "      <th>4</th>\n",
       "      <td>Harlur</td>\n",
       "      <td>2 BHK</td>\n",
       "      <td>1174</td>\n",
       "      <td>2.0</td>\n",
       "      <td>74.0</td>\n",
       "    </tr>\n",
       "  </tbody>\n",
       "</table>\n",
       "</div>"
      ],
      "text/plain": [
       "         location       size  total_sqft  bath  price\n",
       "0  Ambedkar Nagar      3 BHK        1920   4.0  121.0\n",
       "1        Hulimavu  4 Bedroom        1500   4.0  192.0\n",
       "2         Kalkere      2 BHK         925   2.0   55.0\n",
       "3     Kodigehalli  2 Bedroom         500   1.0   55.0\n",
       "4          Harlur      2 BHK        1174   2.0   74.0"
      ]
     },
     "execution_count": 15,
     "metadata": {},
     "output_type": "execute_result"
    }
   ],
   "source": [
    "df2.head()"
   ]
  },
  {
   "cell_type": "code",
   "execution_count": 16,
   "metadata": {
    "execution": {
     "iopub.execute_input": "2024-07-17T00:49:49.697407Z",
     "iopub.status.busy": "2024-07-17T00:49:49.696637Z",
     "iopub.status.idle": "2024-07-17T00:49:49.714495Z",
     "shell.execute_reply": "2024-07-17T00:49:49.713208Z",
     "shell.execute_reply.started": "2024-07-17T00:49:49.697358Z"
    }
   },
   "outputs": [
    {
     "data": {
      "text/plain": [
       "location      0\n",
       "size          0\n",
       "total_sqft    0\n",
       "bath          0\n",
       "price         0\n",
       "dtype: int64"
      ]
     },
     "execution_count": 16,
     "metadata": {},
     "output_type": "execute_result"
    }
   ],
   "source": [
    "df2.isnull().sum()"
   ]
  },
  {
   "cell_type": "code",
   "execution_count": 17,
   "metadata": {
    "execution": {
     "iopub.execute_input": "2024-07-17T00:49:49.716619Z",
     "iopub.status.busy": "2024-07-17T00:49:49.716204Z",
     "iopub.status.idle": "2024-07-17T00:49:49.741224Z",
     "shell.execute_reply": "2024-07-17T00:49:49.739821Z",
     "shell.execute_reply.started": "2024-07-17T00:49:49.716587Z"
    }
   },
   "outputs": [
    {
     "data": {
      "text/plain": [
       "location      0\n",
       "size          0\n",
       "total_sqft    0\n",
       "bath          0\n",
       "price         0\n",
       "dtype: int64"
      ]
     },
     "execution_count": 17,
     "metadata": {},
     "output_type": "execute_result"
    }
   ],
   "source": [
    "#Dropping NULL instead of imputing because there are very few so ill just drop it.\n",
    "df3=df2.dropna()\n",
    "df3.isnull().sum()"
   ]
  },
  {
   "cell_type": "code",
   "execution_count": 18,
   "metadata": {
    "execution": {
     "iopub.execute_input": "2024-07-17T00:49:49.743401Z",
     "iopub.status.busy": "2024-07-17T00:49:49.742951Z",
     "iopub.status.idle": "2024-07-17T00:49:49.751655Z",
     "shell.execute_reply": "2024-07-17T00:49:49.750255Z",
     "shell.execute_reply.started": "2024-07-17T00:49:49.743363Z"
    }
   },
   "outputs": [
    {
     "data": {
      "text/plain": [
       "(50, 5)"
      ]
     },
     "execution_count": 18,
     "metadata": {},
     "output_type": "execute_result"
    }
   ],
   "source": [
    "df3.shape"
   ]
  },
  {
   "cell_type": "code",
   "execution_count": 19,
   "metadata": {
    "execution": {
     "iopub.execute_input": "2024-07-17T00:49:49.758757Z",
     "iopub.status.busy": "2024-07-17T00:49:49.758335Z",
     "iopub.status.idle": "2024-07-17T00:49:49.768978Z",
     "shell.execute_reply": "2024-07-17T00:49:49.767415Z",
     "shell.execute_reply.started": "2024-07-17T00:49:49.758723Z"
    }
   },
   "outputs": [
    {
     "data": {
      "text/plain": [
       "array(['3 BHK', '4 Bedroom', '2 BHK', '2 Bedroom', '1 BHK', '5 BHK',\n",
       "       '3 Bedroom', '5 Bedroom', '1 Bedroom'], dtype=object)"
      ]
     },
     "execution_count": 19,
     "metadata": {},
     "output_type": "execute_result"
    }
   ],
   "source": [
    "df3['size'].unique()"
   ]
  },
  {
   "cell_type": "code",
   "execution_count": 20,
   "metadata": {
    "execution": {
     "iopub.execute_input": "2024-07-17T00:49:49.771283Z",
     "iopub.status.busy": "2024-07-17T00:49:49.770831Z",
     "iopub.status.idle": "2024-07-17T00:49:49.808303Z",
     "shell.execute_reply": "2024-07-17T00:49:49.806915Z",
     "shell.execute_reply.started": "2024-07-17T00:49:49.771228Z"
    }
   },
   "outputs": [
    {
     "data": {
      "text/html": [
       "<div>\n",
       "<style scoped>\n",
       "    .dataframe tbody tr th:only-of-type {\n",
       "        vertical-align: middle;\n",
       "    }\n",
       "\n",
       "    .dataframe tbody tr th {\n",
       "        vertical-align: top;\n",
       "    }\n",
       "\n",
       "    .dataframe thead th {\n",
       "        text-align: right;\n",
       "    }\n",
       "</style>\n",
       "<table border=\"1\" class=\"dataframe\">\n",
       "  <thead>\n",
       "    <tr style=\"text-align: right;\">\n",
       "      <th></th>\n",
       "      <th>location</th>\n",
       "      <th>size</th>\n",
       "      <th>total_sqft</th>\n",
       "      <th>bath</th>\n",
       "      <th>price</th>\n",
       "      <th>bhk</th>\n",
       "    </tr>\n",
       "  </thead>\n",
       "  <tbody>\n",
       "    <tr>\n",
       "      <th>0</th>\n",
       "      <td>Ambedkar Nagar</td>\n",
       "      <td>3 BHK</td>\n",
       "      <td>1920</td>\n",
       "      <td>4.0</td>\n",
       "      <td>121.0</td>\n",
       "      <td>3</td>\n",
       "    </tr>\n",
       "    <tr>\n",
       "      <th>1</th>\n",
       "      <td>Hulimavu</td>\n",
       "      <td>4 Bedroom</td>\n",
       "      <td>1500</td>\n",
       "      <td>4.0</td>\n",
       "      <td>192.0</td>\n",
       "      <td>4</td>\n",
       "    </tr>\n",
       "    <tr>\n",
       "      <th>2</th>\n",
       "      <td>Kalkere</td>\n",
       "      <td>2 BHK</td>\n",
       "      <td>925</td>\n",
       "      <td>2.0</td>\n",
       "      <td>55.0</td>\n",
       "      <td>2</td>\n",
       "    </tr>\n",
       "    <tr>\n",
       "      <th>3</th>\n",
       "      <td>Kodigehalli</td>\n",
       "      <td>2 Bedroom</td>\n",
       "      <td>500</td>\n",
       "      <td>1.0</td>\n",
       "      <td>55.0</td>\n",
       "      <td>2</td>\n",
       "    </tr>\n",
       "    <tr>\n",
       "      <th>4</th>\n",
       "      <td>Harlur</td>\n",
       "      <td>2 BHK</td>\n",
       "      <td>1174</td>\n",
       "      <td>2.0</td>\n",
       "      <td>74.0</td>\n",
       "      <td>2</td>\n",
       "    </tr>\n",
       "  </tbody>\n",
       "</table>\n",
       "</div>"
      ],
      "text/plain": [
       "         location       size  total_sqft  bath  price  bhk\n",
       "0  Ambedkar Nagar      3 BHK        1920   4.0  121.0    3\n",
       "1        Hulimavu  4 Bedroom        1500   4.0  192.0    4\n",
       "2         Kalkere      2 BHK         925   2.0   55.0    2\n",
       "3     Kodigehalli  2 Bedroom         500   1.0   55.0    2\n",
       "4          Harlur      2 BHK        1174   2.0   74.0    2"
      ]
     },
     "execution_count": 20,
     "metadata": {},
     "output_type": "execute_result"
    }
   ],
   "source": [
    "df3['bhk']=df3['size'].apply(lambda x:int(x.split(' ')[0]))\n",
    "df3.head()"
   ]
  },
  {
   "cell_type": "code",
   "execution_count": 21,
   "metadata": {
    "execution": {
     "iopub.execute_input": "2024-07-17T00:49:49.810038Z",
     "iopub.status.busy": "2024-07-17T00:49:49.809686Z",
     "iopub.status.idle": "2024-07-17T00:49:49.820612Z",
     "shell.execute_reply": "2024-07-17T00:49:49.819389Z",
     "shell.execute_reply.started": "2024-07-17T00:49:49.810009Z"
    }
   },
   "outputs": [
    {
     "data": {
      "text/plain": [
       "array([3, 4, 2, 1, 5])"
      ]
     },
     "execution_count": 21,
     "metadata": {},
     "output_type": "execute_result"
    }
   ],
   "source": [
    "df3['bhk'].unique()"
   ]
  },
  {
   "cell_type": "code",
   "execution_count": 22,
   "metadata": {
    "execution": {
     "iopub.execute_input": "2024-07-17T00:49:49.822333Z",
     "iopub.status.busy": "2024-07-17T00:49:49.821948Z",
     "iopub.status.idle": "2024-07-17T00:49:49.840306Z",
     "shell.execute_reply": "2024-07-17T00:49:49.838835Z",
     "shell.execute_reply.started": "2024-07-17T00:49:49.822303Z"
    }
   },
   "outputs": [
    {
     "data": {
      "text/html": [
       "<div>\n",
       "<style scoped>\n",
       "    .dataframe tbody tr th:only-of-type {\n",
       "        vertical-align: middle;\n",
       "    }\n",
       "\n",
       "    .dataframe tbody tr th {\n",
       "        vertical-align: top;\n",
       "    }\n",
       "\n",
       "    .dataframe thead th {\n",
       "        text-align: right;\n",
       "    }\n",
       "</style>\n",
       "<table border=\"1\" class=\"dataframe\">\n",
       "  <thead>\n",
       "    <tr style=\"text-align: right;\">\n",
       "      <th></th>\n",
       "      <th>location</th>\n",
       "      <th>size</th>\n",
       "      <th>total_sqft</th>\n",
       "      <th>bath</th>\n",
       "      <th>price</th>\n",
       "      <th>bhk</th>\n",
       "    </tr>\n",
       "  </thead>\n",
       "  <tbody>\n",
       "  </tbody>\n",
       "</table>\n",
       "</div>"
      ],
      "text/plain": [
       "Empty DataFrame\n",
       "Columns: [location, size, total_sqft, bath, price, bhk]\n",
       "Index: []"
      ]
     },
     "execution_count": 22,
     "metadata": {},
     "output_type": "execute_result"
    }
   ],
   "source": [
    "df3[df3['bhk']>20]"
   ]
  },
  {
   "cell_type": "code",
   "execution_count": 23,
   "metadata": {
    "execution": {
     "iopub.execute_input": "2024-07-17T00:49:49.842563Z",
     "iopub.status.busy": "2024-07-17T00:49:49.842095Z",
     "iopub.status.idle": "2024-07-17T00:49:49.853109Z",
     "shell.execute_reply": "2024-07-17T00:49:49.851806Z",
     "shell.execute_reply.started": "2024-07-17T00:49:49.842520Z"
    }
   },
   "outputs": [
    {
     "data": {
      "text/plain": [
       "array([1920, 1500,  925,  500, 1174, 1202, 1250,  525, 1200, 3100, 1550,\n",
       "       1235, 1475, 1520, 1153,  645, 1300, 3600, 1530, 2800, 1120, 1115,\n",
       "       1363, 1175, 1710, 2100, 1340,  980,  850, 1354, 1274, 1005, 1355,\n",
       "       1385, 1125, 1176,  770, 1195, 2500,  883, 1243,  410,  936, 1464,\n",
       "       1075, 1225])"
      ]
     },
     "execution_count": 23,
     "metadata": {},
     "output_type": "execute_result"
    }
   ],
   "source": [
    "df3['total_sqft'].unique()"
   ]
  },
  {
   "cell_type": "code",
   "execution_count": 24,
   "metadata": {
    "execution": {
     "iopub.execute_input": "2024-07-17T00:49:49.855122Z",
     "iopub.status.busy": "2024-07-17T00:49:49.854768Z",
     "iopub.status.idle": "2024-07-17T00:49:49.864117Z",
     "shell.execute_reply": "2024-07-17T00:49:49.862855Z",
     "shell.execute_reply.started": "2024-07-17T00:49:49.855093Z"
    }
   },
   "outputs": [],
   "source": [
    "#if we can convert the string value into float then that means its not a range so return True else False\n",
    "def is_float(x):\n",
    "    try:\n",
    "        float(x)\n",
    "    except:\n",
    "        return False\n",
    "    return True"
   ]
  },
  {
   "cell_type": "code",
   "execution_count": 25,
   "metadata": {
    "execution": {
     "iopub.execute_input": "2024-07-17T00:49:49.866189Z",
     "iopub.status.busy": "2024-07-17T00:49:49.865788Z",
     "iopub.status.idle": "2024-07-17T00:49:49.901610Z",
     "shell.execute_reply": "2024-07-17T00:49:49.899939Z",
     "shell.execute_reply.started": "2024-07-17T00:49:49.866159Z"
    }
   },
   "outputs": [
    {
     "data": {
      "text/html": [
       "<div>\n",
       "<style scoped>\n",
       "    .dataframe tbody tr th:only-of-type {\n",
       "        vertical-align: middle;\n",
       "    }\n",
       "\n",
       "    .dataframe tbody tr th {\n",
       "        vertical-align: top;\n",
       "    }\n",
       "\n",
       "    .dataframe thead th {\n",
       "        text-align: right;\n",
       "    }\n",
       "</style>\n",
       "<table border=\"1\" class=\"dataframe\">\n",
       "  <thead>\n",
       "    <tr style=\"text-align: right;\">\n",
       "      <th></th>\n",
       "      <th>location</th>\n",
       "      <th>size</th>\n",
       "      <th>total_sqft</th>\n",
       "      <th>bath</th>\n",
       "      <th>price</th>\n",
       "      <th>bhk</th>\n",
       "    </tr>\n",
       "  </thead>\n",
       "  <tbody>\n",
       "  </tbody>\n",
       "</table>\n",
       "</div>"
      ],
      "text/plain": [
       "Empty DataFrame\n",
       "Columns: [location, size, total_sqft, bath, price, bhk]\n",
       "Index: []"
      ]
     },
     "execution_count": 25,
     "metadata": {},
     "output_type": "execute_result"
    }
   ],
   "source": [
    "#This symbol ~ is used to negate means basically give values where function returns false\n",
    "df3[~df3['total_sqft'].apply(is_float)].head(15)"
   ]
  },
  {
   "cell_type": "code",
   "execution_count": 26,
   "metadata": {
    "execution": {
     "iopub.execute_input": "2024-07-17T00:49:49.903484Z",
     "iopub.status.busy": "2024-07-17T00:49:49.903068Z",
     "iopub.status.idle": "2024-07-17T00:49:49.912268Z",
     "shell.execute_reply": "2024-07-17T00:49:49.910797Z",
     "shell.execute_reply.started": "2024-07-17T00:49:49.903451Z"
    }
   },
   "outputs": [],
   "source": [
    "#Handling range type values in total_sqrt col and other values and also converting string values to float if not both of these just NA \n",
    "def convert_sqrt_to_nums(x):\n",
    "    tokens=x.split('-')\n",
    "    if len(tokens)==2:\n",
    "        return (float(tokens[0])+float(tokens[1]))/2\n",
    "    try:\n",
    "        return float(x)\n",
    "    except:\n",
    "        return None\n",
    "    "
   ]
  },
  {
   "cell_type": "code",
   "execution_count": 27,
   "metadata": {
    "execution": {
     "iopub.execute_input": "2024-07-17T00:49:49.915752Z",
     "iopub.status.busy": "2024-07-17T00:49:49.914426Z",
     "iopub.status.idle": "2024-07-17T00:49:49.948769Z",
     "shell.execute_reply": "2024-07-17T00:49:49.947385Z",
     "shell.execute_reply.started": "2024-07-17T00:49:49.915706Z"
    }
   },
   "outputs": [
    {
     "ename": "AttributeError",
     "evalue": "'int' object has no attribute 'split'",
     "output_type": "error",
     "traceback": [
      "\u001b[0;31m---------------------------------------------------------------------------\u001b[0m",
      "\u001b[0;31mAttributeError\u001b[0m                            Traceback (most recent call last)",
      "Cell \u001b[0;32mIn[27], line 2\u001b[0m\n\u001b[1;32m      1\u001b[0m df4\u001b[38;5;241m=\u001b[39mdf3\u001b[38;5;241m.\u001b[39mcopy()\n\u001b[0;32m----> 2\u001b[0m df4[\u001b[38;5;124m\"\u001b[39m\u001b[38;5;124mtotal_sqft\u001b[39m\u001b[38;5;124m\"\u001b[39m]\u001b[38;5;241m=\u001b[39mdf4[\u001b[38;5;124m'\u001b[39m\u001b[38;5;124mtotal_sqft\u001b[39m\u001b[38;5;124m'\u001b[39m]\u001b[38;5;241m.\u001b[39mapply(convert_sqrt_to_nums)\n\u001b[1;32m      3\u001b[0m df4\u001b[38;5;241m.\u001b[39mhead()\n",
      "File \u001b[0;32m~/anaconda3/lib/python3.11/site-packages/pandas/core/series.py:4630\u001b[0m, in \u001b[0;36mSeries.apply\u001b[0;34m(self, func, convert_dtype, args, **kwargs)\u001b[0m\n\u001b[1;32m   4520\u001b[0m \u001b[38;5;28;01mdef\u001b[39;00m \u001b[38;5;21mapply\u001b[39m(\n\u001b[1;32m   4521\u001b[0m     \u001b[38;5;28mself\u001b[39m,\n\u001b[1;32m   4522\u001b[0m     func: AggFuncType,\n\u001b[0;32m   (...)\u001b[0m\n\u001b[1;32m   4525\u001b[0m     \u001b[38;5;241m*\u001b[39m\u001b[38;5;241m*\u001b[39mkwargs,\n\u001b[1;32m   4526\u001b[0m ) \u001b[38;5;241m-\u001b[39m\u001b[38;5;241m>\u001b[39m DataFrame \u001b[38;5;241m|\u001b[39m Series:\n\u001b[1;32m   4527\u001b[0m \u001b[38;5;250m    \u001b[39m\u001b[38;5;124;03m\"\"\"\u001b[39;00m\n\u001b[1;32m   4528\u001b[0m \u001b[38;5;124;03m    Invoke function on values of Series.\u001b[39;00m\n\u001b[1;32m   4529\u001b[0m \n\u001b[0;32m   (...)\u001b[0m\n\u001b[1;32m   4628\u001b[0m \u001b[38;5;124;03m    dtype: float64\u001b[39;00m\n\u001b[1;32m   4629\u001b[0m \u001b[38;5;124;03m    \"\"\"\u001b[39;00m\n\u001b[0;32m-> 4630\u001b[0m     \u001b[38;5;28;01mreturn\u001b[39;00m SeriesApply(\u001b[38;5;28mself\u001b[39m, func, convert_dtype, args, kwargs)\u001b[38;5;241m.\u001b[39mapply()\n",
      "File \u001b[0;32m~/anaconda3/lib/python3.11/site-packages/pandas/core/apply.py:1025\u001b[0m, in \u001b[0;36mSeriesApply.apply\u001b[0;34m(self)\u001b[0m\n\u001b[1;32m   1022\u001b[0m     \u001b[38;5;28;01mreturn\u001b[39;00m \u001b[38;5;28mself\u001b[39m\u001b[38;5;241m.\u001b[39mapply_str()\n\u001b[1;32m   1024\u001b[0m \u001b[38;5;66;03m# self.f is Callable\u001b[39;00m\n\u001b[0;32m-> 1025\u001b[0m \u001b[38;5;28;01mreturn\u001b[39;00m \u001b[38;5;28mself\u001b[39m\u001b[38;5;241m.\u001b[39mapply_standard()\n",
      "File \u001b[0;32m~/anaconda3/lib/python3.11/site-packages/pandas/core/apply.py:1076\u001b[0m, in \u001b[0;36mSeriesApply.apply_standard\u001b[0;34m(self)\u001b[0m\n\u001b[1;32m   1074\u001b[0m     \u001b[38;5;28;01melse\u001b[39;00m:\n\u001b[1;32m   1075\u001b[0m         values \u001b[38;5;241m=\u001b[39m obj\u001b[38;5;241m.\u001b[39mastype(\u001b[38;5;28mobject\u001b[39m)\u001b[38;5;241m.\u001b[39m_values\n\u001b[0;32m-> 1076\u001b[0m         mapped \u001b[38;5;241m=\u001b[39m lib\u001b[38;5;241m.\u001b[39mmap_infer(\n\u001b[1;32m   1077\u001b[0m             values,\n\u001b[1;32m   1078\u001b[0m             f,\n\u001b[1;32m   1079\u001b[0m             convert\u001b[38;5;241m=\u001b[39m\u001b[38;5;28mself\u001b[39m\u001b[38;5;241m.\u001b[39mconvert_dtype,\n\u001b[1;32m   1080\u001b[0m         )\n\u001b[1;32m   1082\u001b[0m \u001b[38;5;28;01mif\u001b[39;00m \u001b[38;5;28mlen\u001b[39m(mapped) \u001b[38;5;129;01mand\u001b[39;00m \u001b[38;5;28misinstance\u001b[39m(mapped[\u001b[38;5;241m0\u001b[39m], ABCSeries):\n\u001b[1;32m   1083\u001b[0m     \u001b[38;5;66;03m# GH#43986 Need to do list(mapped) in order to get treated as nested\u001b[39;00m\n\u001b[1;32m   1084\u001b[0m     \u001b[38;5;66;03m#  See also GH#25959 regarding EA support\u001b[39;00m\n\u001b[1;32m   1085\u001b[0m     \u001b[38;5;28;01mreturn\u001b[39;00m obj\u001b[38;5;241m.\u001b[39m_constructor_expanddim(\u001b[38;5;28mlist\u001b[39m(mapped), index\u001b[38;5;241m=\u001b[39mobj\u001b[38;5;241m.\u001b[39mindex)\n",
      "File \u001b[0;32m~/anaconda3/lib/python3.11/site-packages/pandas/_libs/lib.pyx:2834\u001b[0m, in \u001b[0;36mpandas._libs.lib.map_infer\u001b[0;34m()\u001b[0m\n",
      "Cell \u001b[0;32mIn[26], line 3\u001b[0m, in \u001b[0;36mconvert_sqrt_to_nums\u001b[0;34m(x)\u001b[0m\n\u001b[1;32m      2\u001b[0m \u001b[38;5;28;01mdef\u001b[39;00m \u001b[38;5;21mconvert_sqrt_to_nums\u001b[39m(x):\n\u001b[0;32m----> 3\u001b[0m     tokens\u001b[38;5;241m=\u001b[39mx\u001b[38;5;241m.\u001b[39msplit(\u001b[38;5;124m'\u001b[39m\u001b[38;5;124m-\u001b[39m\u001b[38;5;124m'\u001b[39m)\n\u001b[1;32m      4\u001b[0m     \u001b[38;5;28;01mif\u001b[39;00m \u001b[38;5;28mlen\u001b[39m(tokens)\u001b[38;5;241m==\u001b[39m\u001b[38;5;241m2\u001b[39m:\n\u001b[1;32m      5\u001b[0m         \u001b[38;5;28;01mreturn\u001b[39;00m (\u001b[38;5;28mfloat\u001b[39m(tokens[\u001b[38;5;241m0\u001b[39m])\u001b[38;5;241m+\u001b[39m\u001b[38;5;28mfloat\u001b[39m(tokens[\u001b[38;5;241m1\u001b[39m]))\u001b[38;5;241m/\u001b[39m\u001b[38;5;241m2\u001b[39m\n",
      "\u001b[0;31mAttributeError\u001b[0m: 'int' object has no attribute 'split'"
     ]
    }
   ],
   "source": [
    "df4=df3.copy()\n",
    "df4[\"total_sqft\"]=df4['total_sqft'].apply(convert_sqrt_to_nums)\n",
    "df4.head()"
   ]
  },
  {
   "cell_type": "code",
   "execution_count": null,
   "metadata": {
    "execution": {
     "iopub.execute_input": "2024-07-17T00:49:49.950779Z",
     "iopub.status.busy": "2024-07-17T00:49:49.950391Z",
     "iopub.status.idle": "2024-07-17T00:49:49.970703Z",
     "shell.execute_reply": "2024-07-17T00:49:49.969342Z",
     "shell.execute_reply.started": "2024-07-17T00:49:49.950745Z"
    }
   },
   "outputs": [],
   "source": [
    "df4.head(10)"
   ]
  },
  {
   "cell_type": "code",
   "execution_count": null,
   "metadata": {
    "execution": {
     "iopub.execute_input": "2024-07-17T00:49:49.973065Z",
     "iopub.status.busy": "2024-07-17T00:49:49.972597Z",
     "iopub.status.idle": "2024-07-17T00:49:49.984479Z",
     "shell.execute_reply": "2024-07-17T00:49:49.982949Z",
     "shell.execute_reply.started": "2024-07-17T00:49:49.973030Z"
    }
   },
   "outputs": [],
   "source": [
    "df4.loc[30]"
   ]
  },
  {
   "cell_type": "code",
   "execution_count": null,
   "metadata": {
    "execution": {
     "iopub.execute_input": "2024-07-17T00:49:49.986909Z",
     "iopub.status.busy": "2024-07-17T00:49:49.986500Z",
     "iopub.status.idle": "2024-07-17T00:49:50.011390Z",
     "shell.execute_reply": "2024-07-17T00:49:50.010236Z",
     "shell.execute_reply.started": "2024-07-17T00:49:49.986873Z"
    }
   },
   "outputs": [],
   "source": [
    "#New feature price_per_sqft this will help us in removing outliers\n",
    "df5=df4.copy()\n",
    "df5['Price_per_sqft']=df5[\"price\"]*100000/df5[\"total_sqft\"]\n",
    "df5.head()"
   ]
  },
  {
   "cell_type": "code",
   "execution_count": null,
   "metadata": {
    "execution": {
     "iopub.execute_input": "2024-07-17T00:49:50.013062Z",
     "iopub.status.busy": "2024-07-17T00:49:50.012697Z",
     "iopub.status.idle": "2024-07-17T00:49:50.023574Z",
     "shell.execute_reply": "2024-07-17T00:49:50.022194Z",
     "shell.execute_reply.started": "2024-07-17T00:49:50.013030Z"
    }
   },
   "outputs": [],
   "source": [
    "loc_stats=df5['location'].value_counts()"
   ]
  },
  {
   "cell_type": "code",
   "execution_count": null,
   "metadata": {
    "execution": {
     "iopub.execute_input": "2024-07-17T00:49:50.025846Z",
     "iopub.status.busy": "2024-07-17T00:49:50.025404Z",
     "iopub.status.idle": "2024-07-17T00:49:50.038530Z",
     "shell.execute_reply": "2024-07-17T00:49:50.037001Z",
     "shell.execute_reply.started": "2024-07-17T00:49:50.025811Z"
    }
   },
   "outputs": [],
   "source": [
    "len(df5.location.unique())"
   ]
  },
  {
   "cell_type": "code",
   "execution_count": null,
   "metadata": {
    "execution": {
     "iopub.execute_input": "2024-07-17T00:49:50.040684Z",
     "iopub.status.busy": "2024-07-17T00:49:50.040281Z",
     "iopub.status.idle": "2024-07-17T00:49:50.051085Z",
     "shell.execute_reply": "2024-07-17T00:49:50.049579Z",
     "shell.execute_reply.started": "2024-07-17T00:49:50.040653Z"
    }
   },
   "outputs": [],
   "source": [
    "len(loc_stats[loc_stats<=10])"
   ]
  },
  {
   "cell_type": "code",
   "execution_count": null,
   "metadata": {
    "execution": {
     "iopub.execute_input": "2024-07-17T00:49:50.052847Z",
     "iopub.status.busy": "2024-07-17T00:49:50.052509Z",
     "iopub.status.idle": "2024-07-17T00:49:50.066972Z",
     "shell.execute_reply": "2024-07-17T00:49:50.065633Z",
     "shell.execute_reply.started": "2024-07-17T00:49:50.052819Z"
    }
   },
   "outputs": [],
   "source": [
    "loc_stats_less=loc_stats[loc_stats<=10]\n",
    "loc_stats_less"
   ]
  },
  {
   "cell_type": "code",
   "execution_count": null,
   "metadata": {
    "execution": {
     "iopub.execute_input": "2024-07-17T00:49:50.069048Z",
     "iopub.status.busy": "2024-07-17T00:49:50.068551Z",
     "iopub.status.idle": "2024-07-17T00:49:50.081695Z",
     "shell.execute_reply": "2024-07-17T00:49:50.080336Z",
     "shell.execute_reply.started": "2024-07-17T00:49:50.068877Z"
    }
   },
   "outputs": [],
   "source": [
    "#too many categories all locations which have less than 10 instances will come under other location\n",
    "len(df5['location'].unique())"
   ]
  },
  {
   "cell_type": "code",
   "execution_count": null,
   "metadata": {
    "execution": {
     "iopub.execute_input": "2024-07-17T00:49:50.084105Z",
     "iopub.status.busy": "2024-07-17T00:49:50.083573Z",
     "iopub.status.idle": "2024-07-17T00:49:50.137319Z",
     "shell.execute_reply": "2024-07-17T00:49:50.136206Z",
     "shell.execute_reply.started": "2024-07-17T00:49:50.084060Z"
    }
   },
   "outputs": [],
   "source": [
    "#Transformation to change locations to others\n",
    "df5.location=df5.location.apply(lambda x:'others' if x in loc_stats_less else x)\n"
   ]
  },
  {
   "cell_type": "code",
   "execution_count": null,
   "metadata": {
    "execution": {
     "iopub.execute_input": "2024-07-17T00:49:50.139613Z",
     "iopub.status.busy": "2024-07-17T00:49:50.139154Z",
     "iopub.status.idle": "2024-07-17T00:49:50.154336Z",
     "shell.execute_reply": "2024-07-17T00:49:50.152671Z",
     "shell.execute_reply.started": "2024-07-17T00:49:50.139575Z"
    }
   },
   "outputs": [],
   "source": [
    "len(df5['location'].unique())"
   ]
  },
  {
   "cell_type": "code",
   "execution_count": null,
   "metadata": {
    "execution": {
     "iopub.execute_input": "2024-07-17T00:49:50.156767Z",
     "iopub.status.busy": "2024-07-17T00:49:50.156309Z",
     "iopub.status.idle": "2024-07-17T00:49:50.181298Z",
     "shell.execute_reply": "2024-07-17T00:49:50.180056Z",
     "shell.execute_reply.started": "2024-07-17T00:49:50.156729Z"
    }
   },
   "outputs": [],
   "source": [
    "df5.head(15)"
   ]
  },
  {
   "cell_type": "code",
   "execution_count": null,
   "metadata": {
    "execution": {
     "iopub.execute_input": "2024-07-17T00:49:50.183533Z",
     "iopub.status.busy": "2024-07-17T00:49:50.183134Z",
     "iopub.status.idle": "2024-07-17T00:49:50.206287Z",
     "shell.execute_reply": "2024-07-17T00:49:50.204939Z",
     "shell.execute_reply.started": "2024-07-17T00:49:50.183500Z"
    }
   },
   "outputs": [],
   "source": [
    "'''There are houses which have a very low sqft per bedroom and can be treated as outlier for this dataset \n",
    "i'll consider 300 as threshold that means any bedroom having sqft less than 300 is a outlier'''\n",
    "df5[df5.total_sqft/df5.bhk<300].head()"
   ]
  },
  {
   "cell_type": "code",
   "execution_count": null,
   "metadata": {
    "execution": {
     "iopub.execute_input": "2024-07-17T00:49:50.208833Z",
     "iopub.status.busy": "2024-07-17T00:49:50.208395Z",
     "iopub.status.idle": "2024-07-17T00:49:50.217295Z",
     "shell.execute_reply": "2024-07-17T00:49:50.215780Z",
     "shell.execute_reply.started": "2024-07-17T00:49:50.208795Z"
    }
   },
   "outputs": [],
   "source": [
    "df5.shape"
   ]
  },
  {
   "cell_type": "code",
   "execution_count": null,
   "metadata": {
    "execution": {
     "iopub.execute_input": "2024-07-17T00:49:50.220250Z",
     "iopub.status.busy": "2024-07-17T00:49:50.218992Z",
     "iopub.status.idle": "2024-07-17T00:49:50.232939Z",
     "shell.execute_reply": "2024-07-17T00:49:50.231643Z",
     "shell.execute_reply.started": "2024-07-17T00:49:50.220213Z"
    }
   },
   "outputs": [],
   "source": [
    "#Just negate the operation and feed it into a new df\n",
    "df6=df5[~(df5.total_sqft/df5.bhk<300)]\n",
    "df6.shape"
   ]
  },
  {
   "cell_type": "code",
   "execution_count": null,
   "metadata": {
    "execution": {
     "iopub.execute_input": "2024-07-17T00:49:50.235452Z",
     "iopub.status.busy": "2024-07-17T00:49:50.235019Z",
     "iopub.status.idle": "2024-07-17T00:49:50.250044Z",
     "shell.execute_reply": "2024-07-17T00:49:50.248190Z",
     "shell.execute_reply.started": "2024-07-17T00:49:50.235389Z"
    }
   },
   "outputs": [],
   "source": [
    "#Now looking at the price_per_sqft for outliers\n",
    "df6['Price_per_sqft'].describe()"
   ]
  },
  {
   "cell_type": "code",
   "execution_count": null,
   "metadata": {
    "execution": {
     "iopub.execute_input": "2024-07-17T00:49:50.253127Z",
     "iopub.status.busy": "2024-07-17T00:49:50.251873Z",
     "iopub.status.idle": "2024-07-17T00:49:50.258060Z",
     "shell.execute_reply": "2024-07-17T00:49:50.256642Z",
     "shell.execute_reply.started": "2024-07-17T00:49:50.253086Z"
    }
   },
   "outputs": [],
   "source": [
    "#To keep our data as gausian we remove the values which are more than 1 Standard deviation "
   ]
  },
  {
   "cell_type": "code",
   "execution_count": null,
   "metadata": {
    "execution": {
     "iopub.execute_input": "2024-07-17T00:49:50.261180Z",
     "iopub.status.busy": "2024-07-17T00:49:50.260164Z",
     "iopub.status.idle": "2024-07-17T00:49:50.269600Z",
     "shell.execute_reply": "2024-07-17T00:49:50.268306Z",
     "shell.execute_reply.started": "2024-07-17T00:49:50.261135Z"
    }
   },
   "outputs": [],
   "source": [
    "def outlier_pps(df):\n",
    "    df_out=pd.DataFrame()\n",
    "    for key,sub_df in df.groupby('location'):#produces a small dataframe per location\n",
    "        m=np.mean(sub_df.Price_per_sqft)\n",
    "        sd=np.std(sub_df.Price_per_sqft)\n",
    "        reduced_df=sub_df[(sub_df['Price_per_sqft']>(m-sd))&(sub_df['Price_per_sqft']<=(m+sd))]\n",
    "        df_out=pd.concat([df_out,reduced_df],ignore_index=True)\n",
    "    return df_out    "
   ]
  },
  {
   "cell_type": "code",
   "execution_count": null,
   "metadata": {
    "execution": {
     "iopub.execute_input": "2024-07-17T00:49:50.272035Z",
     "iopub.status.busy": "2024-07-17T00:49:50.271539Z",
     "iopub.status.idle": "2024-07-17T00:49:50.664436Z",
     "shell.execute_reply": "2024-07-17T00:49:50.663335Z",
     "shell.execute_reply.started": "2024-07-17T00:49:50.271994Z"
    }
   },
   "outputs": [],
   "source": [
    "df7=outlier_pps(df6)\n",
    "df7.shape"
   ]
  },
  {
   "cell_type": "code",
   "execution_count": null,
   "metadata": {
    "execution": {
     "iopub.execute_input": "2024-07-17T00:49:50.673289Z",
     "iopub.status.busy": "2024-07-17T00:49:50.672886Z",
     "iopub.status.idle": "2024-07-17T00:49:50.678934Z",
     "shell.execute_reply": "2024-07-17T00:49:50.677356Z",
     "shell.execute_reply.started": "2024-07-17T00:49:50.673257Z"
    }
   },
   "outputs": [],
   "source": [
    "#There are areas where in the same area the price of 2bhk is higher than 3 bhk so we try and remove them"
   ]
  },
  {
   "cell_type": "code",
   "execution_count": null,
   "metadata": {
    "execution": {
     "iopub.execute_input": "2024-07-17T00:49:50.681476Z",
     "iopub.status.busy": "2024-07-17T00:49:50.680948Z",
     "iopub.status.idle": "2024-07-17T00:49:50.692011Z",
     "shell.execute_reply": "2024-07-17T00:49:50.690751Z",
     "shell.execute_reply.started": "2024-07-17T00:49:50.681432Z"
    }
   },
   "outputs": [],
   "source": [
    "def scatter_plot_area(df,location):\n",
    "    bhk2=df[(df.location==location)&(df.bhk==2)]\n",
    "    bhk3=df[(df.location==location)&(df.bhk==3)]\n",
    "    matplotlib.rcParams['figure.figsize']=(15,10)\n",
    "    plt.scatter(bhk2.total_sqft,bhk2.price,color='blue',label='2 BHK',s=50)\n",
    "    plt.scatter(bhk3.total_sqft,bhk3.price,marker='+',color='red',label='3 BHK',s=50)\n",
    "    plt.xlabel('Total Sqft Area')\n",
    "    plt.ylabel('Price')\n",
    "    plt.title('Location')\n",
    "    plt.legend()    "
   ]
  },
  {
   "cell_type": "code",
   "execution_count": null,
   "metadata": {
    "execution": {
     "iopub.execute_input": "2024-07-17T00:49:50.693797Z",
     "iopub.status.busy": "2024-07-17T00:49:50.693456Z",
     "iopub.status.idle": "2024-07-17T00:49:51.150439Z",
     "shell.execute_reply": "2024-07-17T00:49:51.149235Z",
     "shell.execute_reply.started": "2024-07-17T00:49:50.693769Z"
    }
   },
   "outputs": [],
   "source": [
    "scatter_plot_area(df7,'Hebbal')"
   ]
  },
  {
   "cell_type": "code",
   "execution_count": null,
   "metadata": {
    "execution": {
     "iopub.execute_input": "2024-07-17T00:49:51.152346Z",
     "iopub.status.busy": "2024-07-17T00:49:51.151985Z",
     "iopub.status.idle": "2024-07-17T00:49:51.162124Z",
     "shell.execute_reply": "2024-07-17T00:49:51.160610Z",
     "shell.execute_reply.started": "2024-07-17T00:49:51.152314Z"
    }
   },
   "outputs": [],
   "source": [
    "def remove_bhk(df):\n",
    "    exclude_indices=np.array([])\n",
    "    for location, location_df in df.groupby('location'):\n",
    "        bhk_stats={}\n",
    "        for bhk,bhk_df in location_df.groupby('bhk'):\n",
    "            bhk_stats[bhk]={\n",
    "                'mean':np.mean(bhk_df.Price_per_sqft),\n",
    "                'std':np.std(bhk_df.Price_per_sqft),\n",
    "                'count':bhk_df.shape[0]\n",
    "                \n",
    "            }\n",
    "        for bhk,bhk_df in location_df.groupby('bhk'):\n",
    "            stats=bhk_stats.get(bhk-1)\n",
    "            if stats and stats['count']>5:\n",
    "                exclude_indices=np.append(exclude_indices,bhk_df[bhk_df.Price_per_sqft<(stats['mean'])].index.values)\n",
    "    return df.drop(exclude_indices,axis='index')\n",
    "                "
   ]
  },
  {
   "cell_type": "code",
   "execution_count": null,
   "metadata": {
    "execution": {
     "iopub.execute_input": "2024-07-17T00:49:51.164504Z",
     "iopub.status.busy": "2024-07-17T00:49:51.164058Z",
     "iopub.status.idle": "2024-07-17T00:49:51.818028Z",
     "shell.execute_reply": "2024-07-17T00:49:51.816733Z",
     "shell.execute_reply.started": "2024-07-17T00:49:51.164464Z"
    }
   },
   "outputs": [],
   "source": [
    "df8=remove_bhk(df7)\n",
    "df8.shape"
   ]
  },
  {
   "cell_type": "code",
   "execution_count": null,
   "metadata": {
    "execution": {
     "iopub.execute_input": "2024-07-17T00:49:51.820004Z",
     "iopub.status.busy": "2024-07-17T00:49:51.819569Z",
     "iopub.status.idle": "2024-07-17T00:49:52.237305Z",
     "shell.execute_reply": "2024-07-17T00:49:52.235816Z",
     "shell.execute_reply.started": "2024-07-17T00:49:51.819949Z"
    }
   },
   "outputs": [],
   "source": [
    "scatter_plot_area(df8,'Hebbal')"
   ]
  },
  {
   "cell_type": "code",
   "execution_count": null,
   "metadata": {
    "execution": {
     "iopub.execute_input": "2024-07-17T00:49:52.239201Z",
     "iopub.status.busy": "2024-07-17T00:49:52.238781Z",
     "iopub.status.idle": "2024-07-17T00:49:52.591464Z",
     "shell.execute_reply": "2024-07-17T00:49:52.590059Z",
     "shell.execute_reply.started": "2024-07-17T00:49:52.239168Z"
    }
   },
   "outputs": [],
   "source": [
    "plt.figure(figsize=(20,10))\n",
    "plt.hist(df8.Price_per_sqft,rwidth=0.8)\n",
    "plt.xlabel(\"Price per sqft\")\n",
    "plt.ylabel(\"Count\")\n",
    "plt.show()\n"
   ]
  },
  {
   "cell_type": "code",
   "execution_count": null,
   "metadata": {
    "execution": {
     "iopub.execute_input": "2024-07-17T00:49:52.594086Z",
     "iopub.status.busy": "2024-07-17T00:49:52.593640Z",
     "iopub.status.idle": "2024-07-17T00:49:52.602620Z",
     "shell.execute_reply": "2024-07-17T00:49:52.601265Z",
     "shell.execute_reply.started": "2024-07-17T00:49:52.594051Z"
    }
   },
   "outputs": [],
   "source": [
    "df8.bath.unique()"
   ]
  },
  {
   "cell_type": "code",
   "execution_count": null,
   "metadata": {
    "execution": {
     "iopub.execute_input": "2024-07-17T00:49:52.605203Z",
     "iopub.status.busy": "2024-07-17T00:49:52.604737Z",
     "iopub.status.idle": "2024-07-17T00:49:52.626017Z",
     "shell.execute_reply": "2024-07-17T00:49:52.624562Z",
     "shell.execute_reply.started": "2024-07-17T00:49:52.605164Z"
    }
   },
   "outputs": [],
   "source": [
    "df8[df8.bath>10]"
   ]
  },
  {
   "cell_type": "code",
   "execution_count": null,
   "metadata": {
    "execution": {
     "iopub.execute_input": "2024-07-17T00:49:52.627872Z",
     "iopub.status.busy": "2024-07-17T00:49:52.627536Z",
     "iopub.status.idle": "2024-07-17T00:49:53.137852Z",
     "shell.execute_reply": "2024-07-17T00:49:53.136585Z",
     "shell.execute_reply.started": "2024-07-17T00:49:52.627843Z"
    }
   },
   "outputs": [],
   "source": [
    "plt.hist(df8.bath,rwidth=0.8)\n",
    "plt.xlabel('Number of bathroom')\n",
    "plt.ylabel('Count')\n",
    "plt.show()"
   ]
  },
  {
   "cell_type": "code",
   "execution_count": null,
   "metadata": {
    "execution": {
     "iopub.execute_input": "2024-07-17T00:49:53.139940Z",
     "iopub.status.busy": "2024-07-17T00:49:53.139581Z",
     "iopub.status.idle": "2024-07-17T00:49:53.147918Z",
     "shell.execute_reply": "2024-07-17T00:49:53.146461Z",
     "shell.execute_reply.started": "2024-07-17T00:49:53.139910Z"
    }
   },
   "outputs": [],
   "source": [
    "df8.shape"
   ]
  },
  {
   "cell_type": "code",
   "execution_count": null,
   "metadata": {
    "execution": {
     "iopub.execute_input": "2024-07-17T00:49:53.149851Z",
     "iopub.status.busy": "2024-07-17T00:49:53.149481Z",
     "iopub.status.idle": "2024-07-17T00:49:53.164219Z",
     "shell.execute_reply": "2024-07-17T00:49:53.162881Z",
     "shell.execute_reply.started": "2024-07-17T00:49:53.149820Z"
    }
   },
   "outputs": [],
   "source": [
    "#I'll remove houses where no.of bath>no.of bedrooms+2\n",
    "df9=df8[df8.bath<df8.bhk+2]\n",
    "df9.shape"
   ]
  },
  {
   "cell_type": "code",
   "execution_count": null,
   "metadata": {
    "execution": {
     "iopub.execute_input": "2024-07-17T00:49:53.166332Z",
     "iopub.status.busy": "2024-07-17T00:49:53.165854Z",
     "iopub.status.idle": "2024-07-17T00:49:53.185885Z",
     "shell.execute_reply": "2024-07-17T00:49:53.184621Z",
     "shell.execute_reply.started": "2024-07-17T00:49:53.166294Z"
    }
   },
   "outputs": [],
   "source": [
    "df9.head()"
   ]
  },
  {
   "cell_type": "code",
   "execution_count": null,
   "metadata": {
    "execution": {
     "iopub.execute_input": "2024-07-17T00:49:53.188152Z",
     "iopub.status.busy": "2024-07-17T00:49:53.187679Z",
     "iopub.status.idle": "2024-07-17T00:49:53.209678Z",
     "shell.execute_reply": "2024-07-17T00:49:53.208358Z",
     "shell.execute_reply.started": "2024-07-17T00:49:53.188117Z"
    }
   },
   "outputs": [],
   "source": [
    "df10=df9.drop(['size','Price_per_sqft'],axis='columns')\n",
    "df10.head()"
   ]
  },
  {
   "cell_type": "code",
   "execution_count": null,
   "metadata": {
    "execution": {
     "iopub.execute_input": "2024-07-17T00:49:53.211417Z",
     "iopub.status.busy": "2024-07-17T00:49:53.211068Z",
     "iopub.status.idle": "2024-07-17T00:49:53.243325Z",
     "shell.execute_reply": "2024-07-17T00:49:53.241973Z",
     "shell.execute_reply.started": "2024-07-17T00:49:53.211372Z"
    }
   },
   "outputs": [],
   "source": [
    "#Location one hot encoding\n",
    "dummies=pd.get_dummies(df10.location)\n",
    "dummies.head()"
   ]
  },
  {
   "cell_type": "code",
   "execution_count": null,
   "metadata": {
    "execution": {
     "iopub.execute_input": "2024-07-17T00:49:53.245151Z",
     "iopub.status.busy": "2024-07-17T00:49:53.244801Z",
     "iopub.status.idle": "2024-07-17T00:49:53.259488Z",
     "shell.execute_reply": "2024-07-17T00:49:53.257863Z",
     "shell.execute_reply.started": "2024-07-17T00:49:53.245121Z"
    }
   },
   "outputs": [],
   "source": [
    "#converting True or False to int alternate method dumm = dummies.applymap(lambda x: 1 if x else 0)\n",
    "dummies=dummies.astype(int)"
   ]
  },
  {
   "cell_type": "code",
   "execution_count": null,
   "metadata": {
    "execution": {
     "iopub.execute_input": "2024-07-17T00:49:53.261663Z",
     "iopub.status.busy": "2024-07-17T00:49:53.261288Z",
     "iopub.status.idle": "2024-07-17T00:49:53.286178Z",
     "shell.execute_reply": "2024-07-17T00:49:53.284684Z",
     "shell.execute_reply.started": "2024-07-17T00:49:53.261632Z"
    }
   },
   "outputs": [],
   "source": [
    "dummies.head(10)"
   ]
  },
  {
   "cell_type": "code",
   "execution_count": null,
   "metadata": {
    "execution": {
     "iopub.execute_input": "2024-07-17T00:49:53.288635Z",
     "iopub.status.busy": "2024-07-17T00:49:53.288136Z",
     "iopub.status.idle": "2024-07-17T00:49:53.338731Z",
     "shell.execute_reply": "2024-07-17T00:49:53.337308Z",
     "shell.execute_reply.started": "2024-07-17T00:49:53.288590Z"
    }
   },
   "outputs": [],
   "source": [
    "df11=pd.concat([df10,dummies.drop('others',axis='columns')],axis='columns')\n",
    "df11.head()"
   ]
  },
  {
   "cell_type": "code",
   "execution_count": null,
   "metadata": {
    "execution": {
     "iopub.execute_input": "2024-07-17T00:49:53.341221Z",
     "iopub.status.busy": "2024-07-17T00:49:53.340695Z",
     "iopub.status.idle": "2024-07-17T00:49:53.377724Z",
     "shell.execute_reply": "2024-07-17T00:49:53.376406Z",
     "shell.execute_reply.started": "2024-07-17T00:49:53.341175Z"
    }
   },
   "outputs": [],
   "source": [
    "df12=df11.drop('location',axis='columns')\n",
    "df12.head()"
   ]
  },
  {
   "cell_type": "code",
   "execution_count": null,
   "metadata": {
    "execution": {
     "iopub.execute_input": "2024-07-17T00:49:53.379983Z",
     "iopub.status.busy": "2024-07-17T00:49:53.379593Z",
     "iopub.status.idle": "2024-07-17T00:49:53.388092Z",
     "shell.execute_reply": "2024-07-17T00:49:53.386579Z",
     "shell.execute_reply.started": "2024-07-17T00:49:53.379926Z"
    }
   },
   "outputs": [],
   "source": [
    "df12.shape"
   ]
  },
  {
   "cell_type": "code",
   "execution_count": null,
   "metadata": {
    "execution": {
     "iopub.execute_input": "2024-07-17T00:49:53.390825Z",
     "iopub.status.busy": "2024-07-17T00:49:53.389819Z",
     "iopub.status.idle": "2024-07-17T00:49:53.426458Z",
     "shell.execute_reply": "2024-07-17T00:49:53.425141Z",
     "shell.execute_reply.started": "2024-07-17T00:49:53.390789Z"
    }
   },
   "outputs": [],
   "source": [
    "X=df12.drop('price',axis='columns')\n",
    "X.head()"
   ]
  },
  {
   "cell_type": "code",
   "execution_count": null,
   "metadata": {
    "execution": {
     "iopub.execute_input": "2024-07-17T00:49:53.428446Z",
     "iopub.status.busy": "2024-07-17T00:49:53.428051Z",
     "iopub.status.idle": "2024-07-17T00:49:53.438023Z",
     "shell.execute_reply": "2024-07-17T00:49:53.436660Z",
     "shell.execute_reply.started": "2024-07-17T00:49:53.428416Z"
    }
   },
   "outputs": [],
   "source": [
    "y=df12['price']\n",
    "y.head()"
   ]
  },
  {
   "cell_type": "code",
   "execution_count": null,
   "metadata": {
    "execution": {
     "iopub.execute_input": "2024-07-17T00:49:53.440098Z",
     "iopub.status.busy": "2024-07-17T00:49:53.439640Z",
     "iopub.status.idle": "2024-07-17T00:49:53.464581Z",
     "shell.execute_reply": "2024-07-17T00:49:53.463424Z",
     "shell.execute_reply.started": "2024-07-17T00:49:53.440058Z"
    }
   },
   "outputs": [],
   "source": [
    "from sklearn.model_selection import train_test_split\n",
    "X_train,X_test,y_train,y_test=train_test_split(X,y,test_size=0.2,random_state=10)"
   ]
  },
  {
   "cell_type": "code",
   "execution_count": null,
   "metadata": {
    "execution": {
     "iopub.execute_input": "2024-07-17T00:50:36.899388Z",
     "iopub.status.busy": "2024-07-17T00:50:36.898941Z",
     "iopub.status.idle": "2024-07-17T00:50:37.124719Z",
     "shell.execute_reply": "2024-07-17T00:50:37.122954Z",
     "shell.execute_reply.started": "2024-07-17T00:50:36.899355Z"
    }
   },
   "outputs": [],
   "source": [
    "from sklearn.linear_model import LinearRegression\n",
    "model=LinearRegression()\n",
    "model.fit(X_train,y_train)\n",
    "model.score(X_test,y_test)"
   ]
  },
  {
   "cell_type": "code",
   "execution_count": null,
   "metadata": {
    "execution": {
     "iopub.execute_input": "2024-07-17T00:56:09.627658Z",
     "iopub.status.busy": "2024-07-17T00:56:09.627261Z",
     "iopub.status.idle": "2024-07-17T00:56:10.866618Z",
     "shell.execute_reply": "2024-07-17T00:56:10.865031Z",
     "shell.execute_reply.started": "2024-07-17T00:56:09.627629Z"
    }
   },
   "outputs": [],
   "source": [
    "from sklearn.model_selection import ShuffleSplit\n",
    "from sklearn.model_selection import cross_val_score\n",
    "cv=ShuffleSplit(n_splits=5,test_size=0.2,random_state=10)\n",
    "cross_val_score(LinearRegression(),X,y,cv=cv)"
   ]
  },
  {
   "cell_type": "code",
   "execution_count": null,
   "metadata": {
    "execution": {
     "iopub.execute_input": "2024-07-17T01:57:24.266046Z",
     "iopub.status.busy": "2024-07-17T01:57:24.265525Z",
     "iopub.status.idle": "2024-07-17T01:57:24.277991Z",
     "shell.execute_reply": "2024-07-17T01:57:24.276491Z",
     "shell.execute_reply.started": "2024-07-17T01:57:24.266009Z"
    }
   },
   "outputs": [],
   "source": [
    "#Now I have used linear regression model but we might can use other models too\n",
    "#so to decide which model to use ill use gridsearchcv api\n",
    "from sklearn.model_selection import GridSearchCV\n",
    "from sklearn.linear_model import Lasso\n",
    "from sklearn.tree import DecisionTreeRegressor\n",
    "def best_model(X,y):\n",
    "    algos={\n",
    "        'linear Regression':{\n",
    "            'model':LinearRegression(),\n",
    "            'params':{\n",
    "                 'fit_intercept': [True, False] \n",
    "                \n",
    "            }\n",
    "        },\n",
    "        'lasso':{\n",
    "            'model':Lasso(),\n",
    "            'params':{\n",
    "                'alpha':[1,2],\n",
    "                'selection':['random','cyclic']\n",
    "            }\n",
    "        },\n",
    "        'decision_tree':{\n",
    "            'model':DecisionTreeRegressor(),\n",
    "            'params':{\n",
    "                'criterion':['mse','friedman_mse'],\n",
    "                'splitter':['best','random']\n",
    "            }\n",
    "            \n",
    "        }\n",
    "    }\n",
    "    scores=[]\n",
    "    cv=ShuffleSplit(n_splits=5,test_size=0.2,random_state=0)\n",
    "    for algo_name,config in algos.items():\n",
    "        gs=GridSearchCV(config['model'],config['params'],cv=cv,return_train_score=False)\n",
    "        gs.fit(X,y)\n",
    "        scores.append({\n",
    "            'model':algo_name,\n",
    "            'best_score':gs.best_score_,\n",
    "            'best_params':gs.best_params_\n",
    "        })\n",
    "    return pd.DataFrame(scores,columns=[\"model\",\"best_score\",\"best_params\"])    \n",
    "    "
   ]
  },
  {
   "cell_type": "code",
   "execution_count": null,
   "metadata": {
    "execution": {
     "iopub.execute_input": "2024-07-17T01:57:28.115352Z",
     "iopub.status.busy": "2024-07-17T01:57:28.114828Z",
     "iopub.status.idle": "2024-07-17T01:57:34.739921Z",
     "shell.execute_reply": "2024-07-17T01:57:34.738771Z",
     "shell.execute_reply.started": "2024-07-17T01:57:28.115315Z"
    }
   },
   "outputs": [],
   "source": [
    "best_model(X,y)"
   ]
  },
  {
   "cell_type": "code",
   "execution_count": null,
   "metadata": {
    "execution": {
     "iopub.execute_input": "2024-07-17T02:06:27.339354Z",
     "iopub.status.busy": "2024-07-17T02:06:27.338800Z",
     "iopub.status.idle": "2024-07-17T02:06:27.348768Z",
     "shell.execute_reply": "2024-07-17T02:06:27.347197Z",
     "shell.execute_reply.started": "2024-07-17T02:06:27.339318Z"
    }
   },
   "outputs": [],
   "source": [
    "'''x will have the following structure sqft|bath|bhk|all locations this is the structure that\n",
    "the model expects to make predictions this function gives the input model needs and also one hot \n",
    "encodes the location'''\n",
    "def predict_price(location,sqft,bath,bhk):\n",
    "    loc_index=np.where(X.columns==location)[0][0]\n",
    "    x=np.zeros(len(X.columns))\n",
    "    x[0]=sqft\n",
    "    x[1]=bath\n",
    "    x[2]=bhk\n",
    "    if loc_index>=0:\n",
    "        x[loc_index]=1\n",
    "        \n",
    "    return model.predict([x])[0]    "
   ]
  },
  {
   "cell_type": "code",
   "execution_count": null,
   "metadata": {},
   "outputs": [],
   "source": [
    "'''Alternative method\n",
    "import numpy as np\n",
    "\n",
    "def predict_price(location, sqft, bath, bhk):\n",
    "    # Create a DataFrame with a single row containing the input features\n",
    "    x = pd.DataFrame([[sqft, bath, bhk] + [0] * (len(X.columns) - 3)], columns=X.columns)\n",
    "    \n",
    "    # Set the location column to 1 for the specified location\n",
    "    if location in X.columns:\n",
    "        x[location] = 1\n",
    "    \n",
    "    # Use the trained model to predict the price\n",
    "    return model.predict(x)[0]\n",
    "'''"
   ]
  },
  {
   "cell_type": "code",
   "execution_count": null,
   "metadata": {
    "execution": {
     "iopub.execute_input": "2024-07-17T02:07:13.680945Z",
     "iopub.status.busy": "2024-07-17T02:07:13.679738Z",
     "iopub.status.idle": "2024-07-17T02:07:13.691391Z",
     "shell.execute_reply": "2024-07-17T02:07:13.689616Z",
     "shell.execute_reply.started": "2024-07-17T02:07:13.680893Z"
    }
   },
   "outputs": [],
   "source": [
    "predict_price('1st Phase JP Nagar',1000,2,2)"
   ]
  },
  {
   "cell_type": "code",
   "execution_count": null,
   "metadata": {
    "execution": {
     "iopub.execute_input": "2024-07-17T02:44:24.767880Z",
     "iopub.status.busy": "2024-07-17T02:44:24.767473Z",
     "iopub.status.idle": "2024-07-17T02:44:24.774264Z",
     "shell.execute_reply": "2024-07-17T02:44:24.773033Z",
     "shell.execute_reply.started": "2024-07-17T02:44:24.767849Z"
    }
   },
   "outputs": [],
   "source": [
    "import pickle\n",
    "with open('Bengaluru_house_Price.pickle','wb') as f:\n",
    "    pickle.dump(model,f)"
   ]
  }
 ],
 "metadata": {
  "kaggle": {
   "accelerator": "none",
   "dataSources": [
    {
     "datasetId": 20710,
     "sourceId": 26737,
     "sourceType": "datasetVersion"
    }
   ],
   "dockerImageVersionId": 30732,
   "isGpuEnabled": false,
   "isInternetEnabled": false,
   "language": "python",
   "sourceType": "notebook"
  },
  "kernelspec": {
   "display_name": "Python 3 (ipykernel)",
   "language": "python",
   "name": "python3"
  },
  "language_info": {
   "codemirror_mode": {
    "name": "ipython",
    "version": 3
   },
   "file_extension": ".py",
   "mimetype": "text/x-python",
   "name": "python",
   "nbconvert_exporter": "python",
   "pygments_lexer": "ipython3",
   "version": "3.11.5"
  }
 },
 "nbformat": 4,
 "nbformat_minor": 4
}
